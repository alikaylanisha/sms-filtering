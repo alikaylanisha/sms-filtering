{
  "metadata": {
    "kernelspec": {
      "language": "python",
      "display_name": "Python 3",
      "name": "python3"
    },
    "language_info": {
      "name": "python",
      "version": "3.10.13",
      "mimetype": "text/x-python",
      "codemirror_mode": {
        "name": "ipython",
        "version": 3
      },
      "pygments_lexer": "ipython3",
      "nbconvert_exporter": "python",
      "file_extension": ".py"
    },
    "kaggle": {
      "accelerator": "gpu",
      "dataSources": [
        {
          "sourceId": 21146,
          "sourceType": "datasetVersion",
          "datasetId": 16021
        },
        {
          "sourceId": 8493939,
          "sourceType": "datasetVersion",
          "datasetId": 5067998
        }
      ],
      "dockerImageVersionId": 30699,
      "isInternetEnabled": true,
      "language": "python",
      "sourceType": "notebook",
      "isGpuEnabled": true
    },
    "colab": {
      "provenance": []
    }
  },
  "nbformat_minor": 0,
  "nbformat": 4,
  "cells": [
    {
      "source": [
        "\n",
        "# IMPORTANT: RUN THIS CELL IN ORDER TO IMPORT YOUR KAGGLE DATA SOURCES\n",
        "# TO THE CORRECT LOCATION (/kaggle/input) IN YOUR NOTEBOOK,\n",
        "# THEN FEEL FREE TO DELETE THIS CELL.\n",
        "# NOTE: THIS NOTEBOOK ENVIRONMENT DIFFERS FROM KAGGLE'S PYTHON\n",
        "# ENVIRONMENT SO THERE MAY BE MISSING LIBRARIES USED BY YOUR\n",
        "# NOTEBOOK.\n",
        "\n",
        "import os\n",
        "import sys\n",
        "from tempfile import NamedTemporaryFile\n",
        "from urllib.request import urlopen\n",
        "from urllib.parse import unquote, urlparse\n",
        "from urllib.error import HTTPError\n",
        "from zipfile import ZipFile\n",
        "import tarfile\n",
        "import shutil\n",
        "\n",
        "CHUNK_SIZE = 40960\n",
        "DATA_SOURCE_MAPPING = 'glovetwitter27b100dtxt:https%3A%2F%2Fstorage.googleapis.com%2Fkaggle-data-sets%2F16021%2F21146%2Fbundle%2Farchive.zip%3FX-Goog-Algorithm%3DGOOG4-RSA-SHA256%26X-Goog-Credential%3Dgcp-kaggle-com%2540kaggle-161607.iam.gserviceaccount.com%252F20240524%252Fauto%252Fstorage%252Fgoog4_request%26X-Goog-Date%3D20240524T144628Z%26X-Goog-Expires%3D259200%26X-Goog-SignedHeaders%3Dhost%26X-Goog-Signature%3D64395108813b380f247c8775e9d352a17522ba9bea5ce8e87ff2f590b45ef741258b7def28daa983df3254c396974f45da96fba83f380ea020f6004bc5d54d4c92dc77406c8de9655c7fdd420dba4f9f7c39596565620ae78717a15bdc79ea48fe44b6cd8266b9effdc1d36af88d12a1bcab3d50b077daffce27c92d3d15eae52eda0e6fa751bd7aaab0d73e572f625efebfa5966d867aa55dca4b349b6e6c9f070d8df2be66e5695d54551262e5408fe888da63c884d3b31b55c3b40e9f4cce69ad9ed7c7db906b33dc6db9eb67e8521c8ba66ad59521835a96dbcd0a24d29eea3a62d280eb7215f4a0b613cfa4b9c1f03d4bb7cbd4be52f977ecd329530733,indo-spam-thingy:https%3A%2F%2Fstorage.googleapis.com%2Fkaggle-data-sets%2F5067998%2F8493939%2Fbundle%2Farchive.zip%3FX-Goog-Algorithm%3DGOOG4-RSA-SHA256%26X-Goog-Credential%3Dgcp-kaggle-com%2540kaggle-161607.iam.gserviceaccount.com%252F20240524%252Fauto%252Fstorage%252Fgoog4_request%26X-Goog-Date%3D20240524T144629Z%26X-Goog-Expires%3D259200%26X-Goog-SignedHeaders%3Dhost%26X-Goog-Signature%3D463c43a1c189ca90d9c053ef53a8bfc893236ac61290d6b21358952223cbe4a1efe2c888b0e894d8910fb69b281525fd6bc27d08765b8479b7851b5ef39fd456fa9b087914c485cd5cba79f9ab667fc45ef14f6ce326a16770af74449b33d4ffc33618556e9e69bc473abf9a659b73ce29c06456151aa51037d5b2981852ad48eb04162404607c1972911a2da5edbc1274173bbea18061e32072be4edc0058e5aa7674d3620eeee47226599baf23b892ec710a0506e550a56bdc0a2c3f5cef6e616dd2c54ed1ffe73bd76a389b5a804700b449ecd128cb8e9b525cfb6ae48e998e964fb151735289303ee5e3972214045c5893f34b159e9918fd5f115b670a92'\n",
        "\n",
        "KAGGLE_INPUT_PATH='/kaggle/input'\n",
        "KAGGLE_WORKING_PATH='/kaggle/working'\n",
        "KAGGLE_SYMLINK='kaggle'\n",
        "\n",
        "!umount /kaggle/input/ 2> /dev/null\n",
        "shutil.rmtree('/kaggle/input', ignore_errors=True)\n",
        "os.makedirs(KAGGLE_INPUT_PATH, 0o777, exist_ok=True)\n",
        "os.makedirs(KAGGLE_WORKING_PATH, 0o777, exist_ok=True)\n",
        "\n",
        "try:\n",
        "  os.symlink(KAGGLE_INPUT_PATH, os.path.join(\"..\", 'input'), target_is_directory=True)\n",
        "except FileExistsError:\n",
        "  pass\n",
        "try:\n",
        "  os.symlink(KAGGLE_WORKING_PATH, os.path.join(\"..\", 'working'), target_is_directory=True)\n",
        "except FileExistsError:\n",
        "  pass\n",
        "\n",
        "for data_source_mapping in DATA_SOURCE_MAPPING.split(','):\n",
        "    directory, download_url_encoded = data_source_mapping.split(':')\n",
        "    download_url = unquote(download_url_encoded)\n",
        "    filename = urlparse(download_url).path\n",
        "    destination_path = os.path.join(KAGGLE_INPUT_PATH, directory)\n",
        "    try:\n",
        "        with urlopen(download_url) as fileres, NamedTemporaryFile() as tfile:\n",
        "            total_length = fileres.headers['content-length']\n",
        "            print(f'Downloading {directory}, {total_length} bytes compressed')\n",
        "            dl = 0\n",
        "            data = fileres.read(CHUNK_SIZE)\n",
        "            while len(data) > 0:\n",
        "                dl += len(data)\n",
        "                tfile.write(data)\n",
        "                done = int(50 * dl / int(total_length))\n",
        "                sys.stdout.write(f\"\\r[{'=' * done}{' ' * (50-done)}] {dl} bytes downloaded\")\n",
        "                sys.stdout.flush()\n",
        "                data = fileres.read(CHUNK_SIZE)\n",
        "            if filename.endswith('.zip'):\n",
        "              with ZipFile(tfile) as zfile:\n",
        "                zfile.extractall(destination_path)\n",
        "            else:\n",
        "              with tarfile.open(tfile.name) as tarfile:\n",
        "                tarfile.extractall(destination_path)\n",
        "            print(f'\\nDownloaded and uncompressed: {directory}')\n",
        "    except HTTPError as e:\n",
        "        print(f'Failed to load (likely expired) {download_url} to path {destination_path}')\n",
        "        continue\n",
        "    except OSError as e:\n",
        "        print(f'Failed to load {download_url} to path {destination_path}')\n",
        "        continue\n",
        "\n",
        "print('Data source import complete.')\n"
      ],
      "metadata": {
        "id": "_1Vuwat6EV5E"
      },
      "cell_type": "code",
      "outputs": [],
      "execution_count": null
    },
    {
      "cell_type": "code",
      "source": [
        "# This Python 3 environment comes with many helpful analytics libraries installed\n",
        "# It is defined by the kaggle/python Docker image: https://github.com/kaggle/docker-python\n",
        "# For example, here's several helpful packages to load\n",
        "\n",
        "import numpy as np # linear algebra\n",
        "import pandas as pd # data processing, CSV file I/O (e.g. pd.read_csv)\n",
        "\n",
        "# Input data files are available in the read-only \"../input/\" directory\n",
        "# For example, running this (by clicking run or pressing Shift+Enter) will list all files under the input directory\n",
        "\n",
        "import os\n",
        "for dirname, _, filenames in os.walk('/kaggle/input'):\n",
        "    for filename in filenames:\n",
        "        print(os.path.join(dirname, filename))\n",
        "\n",
        "# You can write up to 20GB to the current directory (/kaggle/working/) that gets preserved as output when you create a version using \"Save & Run All\"\n",
        "# You can also write temporary files to /kaggle/temp/, but they won't be saved outside of the current session"
      ],
      "metadata": {
        "execution": {
          "iopub.status.busy": "2024-05-24T06:03:50.491481Z",
          "iopub.execute_input": "2024-05-24T06:03:50.49239Z",
          "iopub.status.idle": "2024-05-24T06:03:50.514932Z",
          "shell.execute_reply.started": "2024-05-24T06:03:50.492349Z",
          "shell.execute_reply": "2024-05-24T06:03:50.513911Z"
        },
        "trusted": true,
        "id": "wi8Aht6nEV5L",
        "outputId": "e273159a-1524-42cf-e8cd-63c9085d37e8"
      },
      "execution_count": null,
      "outputs": [
        {
          "name": "stdout",
          "text": "/kaggle/input/indo-spam-thingy/df_preprocess.csv\n/kaggle/input/glovetwitter27b100dtxt/glove.twitter.27B.100d.txt\n",
          "output_type": "stream"
        }
      ]
    },
    {
      "cell_type": "markdown",
      "source": [
        "# Import Libraries"
      ],
      "metadata": {
        "id": "mnMrARGDEV5M"
      }
    },
    {
      "cell_type": "code",
      "source": [
        "import numpy as np\n",
        "import pandas as pd\n",
        "import seaborn as sns\n",
        "import matplotlib.pyplot as plt\n",
        "import nltk\n",
        "nltk.download('stopwords')\n",
        "\n",
        "from sklearn.preprocessing import LabelBinarizer\n",
        "from nltk.corpus import stopwords\n",
        "from nltk.stem.porter import PorterStemmer\n",
        "from wordcloud import WordCloud, STOPWORDS\n",
        "from nltk.stem import WordNetLemmatizer\n",
        "from nltk.tokenize import word_tokenize, sent_tokenize\n",
        "from bs4 import BeautifulSoup\n",
        "import re, string, unicodedata\n",
        "from tensorflow.keras.preprocessing import text, sequence\n",
        "from sklearn.metrics import classification_report, confusion_matrix, accuracy_score\n",
        "from sklearn.model_selection import train_test_split\n",
        "from string import punctuation\n",
        "from nltk import pos_tag\n",
        "from nltk.corpus import wordnet\n",
        "import keras\n",
        "from keras.models import Sequential\n",
        "from keras.layers import Dense, Embedding, LSTM, Dropout\n",
        "from keras.callbacks import ReduceLROnPlateau\n",
        "from tensorflow.keras.preprocessing.sequence import pad_sequences\n",
        "import tensorflow as tf"
      ],
      "metadata": {
        "execution": {
          "iopub.status.busy": "2024-05-24T06:03:50.516599Z",
          "iopub.execute_input": "2024-05-24T06:03:50.516879Z",
          "iopub.status.idle": "2024-05-24T06:03:51.411421Z",
          "shell.execute_reply.started": "2024-05-24T06:03:50.516855Z",
          "shell.execute_reply": "2024-05-24T06:03:51.410499Z"
        },
        "trusted": true,
        "id": "Y42bE4f7EV5P",
        "outputId": "500d2450-f0d2-4afc-dfeb-22cc41f023ae"
      },
      "execution_count": null,
      "outputs": [
        {
          "name": "stdout",
          "text": "[nltk_data] Downloading package stopwords to /usr/share/nltk_data...\n[nltk_data]   Package stopwords is already up-to-date!\n",
          "output_type": "stream"
        }
      ]
    },
    {
      "cell_type": "markdown",
      "source": [
        "# Read Data"
      ],
      "metadata": {
        "id": "7SdZh_I0EV5Q"
      }
    },
    {
      "cell_type": "code",
      "source": [
        "DATA_SET = pd.read_csv(\"/kaggle/input/indo-spam-thingy/df_preprocess.csv\")\n",
        "DATA_SET.head()"
      ],
      "metadata": {
        "execution": {
          "iopub.status.busy": "2024-05-24T06:03:51.413262Z",
          "iopub.execute_input": "2024-05-24T06:03:51.413962Z",
          "iopub.status.idle": "2024-05-24T06:03:51.447291Z",
          "shell.execute_reply.started": "2024-05-24T06:03:51.413927Z",
          "shell.execute_reply": "2024-05-24T06:03:51.446326Z"
        },
        "trusted": true,
        "id": "FI0U5VzmEV5Q",
        "outputId": "01c2e643-eb82-4ff1-ae05-527a8dd67f39"
      },
      "execution_count": null,
      "outputs": [
        {
          "execution_count": 4,
          "output_type": "execute_result",
          "data": {
            "text/plain": "   label                                             no_url\n0      2  promo beli paket flash mulai 1gb telkomsel app...\n1      2  2 5 gb 30 hari hanya rupiah 35 ribu spesial bu...\n2      2  2016 07 08 11 47 11 pulang terhormat sisa kuot...\n3      2  2016 08 07 11 29 47 pulang terhormat sisa kuot...\n4      2  4 5gb 30 hari hanya rupiah 55 ribu spesial bua...",
            "text/html": "<div>\n<style scoped>\n    .dataframe tbody tr th:only-of-type {\n        vertical-align: middle;\n    }\n\n    .dataframe tbody tr th {\n        vertical-align: top;\n    }\n\n    .dataframe thead th {\n        text-align: right;\n    }\n</style>\n<table border=\"1\" class=\"dataframe\">\n  <thead>\n    <tr style=\"text-align: right;\">\n      <th></th>\n      <th>label</th>\n      <th>no_url</th>\n    </tr>\n  </thead>\n  <tbody>\n    <tr>\n      <th>0</th>\n      <td>2</td>\n      <td>promo beli paket flash mulai 1gb telkomsel app...</td>\n    </tr>\n    <tr>\n      <th>1</th>\n      <td>2</td>\n      <td>2 5 gb 30 hari hanya rupiah 35 ribu spesial bu...</td>\n    </tr>\n    <tr>\n      <th>2</th>\n      <td>2</td>\n      <td>2016 07 08 11 47 11 pulang terhormat sisa kuot...</td>\n    </tr>\n    <tr>\n      <th>3</th>\n      <td>2</td>\n      <td>2016 08 07 11 29 47 pulang terhormat sisa kuot...</td>\n    </tr>\n    <tr>\n      <th>4</th>\n      <td>2</td>\n      <td>4 5gb 30 hari hanya rupiah 55 ribu spesial bua...</td>\n    </tr>\n  </tbody>\n</table>\n</div>"
          },
          "metadata": {}
        }
      ]
    },
    {
      "cell_type": "markdown",
      "source": [
        "# Show data info"
      ],
      "metadata": {
        "id": "w6QWYz0hEV5R"
      }
    },
    {
      "cell_type": "code",
      "source": [
        "DATA_SET.info()"
      ],
      "metadata": {
        "execution": {
          "iopub.status.busy": "2024-05-24T06:03:51.448659Z",
          "iopub.execute_input": "2024-05-24T06:03:51.448944Z",
          "iopub.status.idle": "2024-05-24T06:03:51.47008Z",
          "shell.execute_reply.started": "2024-05-24T06:03:51.448919Z",
          "shell.execute_reply": "2024-05-24T06:03:51.46913Z"
        },
        "trusted": true,
        "id": "5J3Vy0juEV5S",
        "outputId": "04cf6bad-bb71-499b-8176-c8d32caf8fe6"
      },
      "execution_count": null,
      "outputs": [
        {
          "name": "stdout",
          "text": "<class 'pandas.core.frame.DataFrame'>\nRangeIndex: 1143 entries, 0 to 1142\nData columns (total 2 columns):\n #   Column  Non-Null Count  Dtype \n---  ------  --------------  ----- \n 0   label   1143 non-null   int64 \n 1   no_url  1143 non-null   object\ndtypes: int64(1), object(1)\nmemory usage: 18.0+ KB\n",
          "output_type": "stream"
        }
      ]
    },
    {
      "cell_type": "markdown",
      "source": [
        "# Ploting"
      ],
      "metadata": {
        "id": "BmmiDqcaEV5T"
      }
    },
    {
      "cell_type": "code",
      "source": [
        "# Assuming the label counts are stored in the 'label_counts' variable\n",
        "label_counts = DATA_SET['label'].value_counts()\n",
        "\n",
        "# Mapping numerical labels to their corresponding text labels\n",
        "label_mapping = {0: 'Normal', 1: 'Fraud', 2: 'Promotional'}\n",
        "label_names = [label_mapping[label] for label in label_counts.index]\n",
        "\n",
        "# Define RGB colors (normalized to the range [0, 1])\n",
        "color_directory = {\n",
        "    'Normal': (233/255, 209/255, 238/255),       # Light pink \t233\t209\t238\n",
        "    'Fraud': (255/255, 192/255, 203/255),        # Pink\n",
        "    'Promotional': (186/255, 225/255, 255/255)   # Light blue\n",
        "}\n",
        "colors = [color_directory[label] for label in label_names]\n",
        "\n",
        "# Creating a bar graph\n",
        "plt.bar(label_names, label_counts, color=colors)\n",
        "plt.xlabel('SMS Categories')\n",
        "plt.ylabel('Count')\n",
        "plt.title('Distribution of Normal, Fraud and Promotional SMS Labels')\n",
        "\n",
        "# Display the count on top of each bar\n",
        "for i, count in enumerate(label_counts):\n",
        "    plt.text(i, count + 0.05, str(count), ha='center', va='bottom')\n",
        "\n",
        "plt.show()"
      ],
      "metadata": {
        "execution": {
          "iopub.status.busy": "2024-05-24T06:03:51.473828Z",
          "iopub.execute_input": "2024-05-24T06:03:51.474094Z",
          "iopub.status.idle": "2024-05-24T06:03:51.738701Z",
          "shell.execute_reply.started": "2024-05-24T06:03:51.474072Z",
          "shell.execute_reply": "2024-05-24T06:03:51.737661Z"
        },
        "trusted": true,
        "id": "w-AXs_meEV5U",
        "outputId": "be48c026-6c75-4947-cbae-485ef4ae1c32"
      },
      "execution_count": null,
      "outputs": [
        {
          "output_type": "display_data",
          "data": {
            "text/plain": "<Figure size 640x480 with 1 Axes>",
            "image/png": "[encoded data removed]"
          },
          "metadata": {}
        }
      ]
    },
    {
      "cell_type": "code",
      "source": [
        "DATA_SET.isna().sum() # Checking for nan Values\n"
      ],
      "metadata": {
        "execution": {
          "iopub.status.busy": "2024-05-24T06:03:51.740003Z",
          "iopub.execute_input": "2024-05-24T06:03:51.74064Z",
          "iopub.status.idle": "2024-05-24T06:03:51.751212Z",
          "shell.execute_reply.started": "2024-05-24T06:03:51.740606Z",
          "shell.execute_reply": "2024-05-24T06:03:51.75021Z"
        },
        "trusted": true,
        "id": "IJNSqcYWEV5V",
        "outputId": "1bed4331-4a24-49a8-b8a9-d601c78591d4"
      },
      "execution_count": null,
      "outputs": [
        {
          "execution_count": 7,
          "output_type": "execute_result",
          "data": {
            "text/plain": "label     0\nno_url    0\ndtype: int64"
          },
          "metadata": {}
        }
      ]
    },
    {
      "cell_type": "markdown",
      "source": [
        "# Evaluate data Distribution"
      ],
      "metadata": {
        "id": "aQwiw1_-EV5V"
      }
    },
    {
      "cell_type": "code",
      "source": [
        "DATA_SET.label.value_counts()"
      ],
      "metadata": {
        "execution": {
          "iopub.status.busy": "2024-05-24T06:03:51.752587Z",
          "iopub.execute_input": "2024-05-24T06:03:51.752921Z",
          "iopub.status.idle": "2024-05-24T06:03:51.76421Z",
          "shell.execute_reply.started": "2024-05-24T06:03:51.752868Z",
          "shell.execute_reply": "2024-05-24T06:03:51.763319Z"
        },
        "trusted": true,
        "id": "v-qHMLnpEV5V",
        "outputId": "848dcc66-1d25-4383-8c60-448ae392e817"
      },
      "execution_count": null,
      "outputs": [
        {
          "execution_count": 8,
          "output_type": "execute_result",
          "data": {
            "text/plain": "label\n0    569\n1    335\n2    239\nName: count, dtype: int64"
          },
          "metadata": {}
        }
      ]
    },
    {
      "cell_type": "code",
      "source": [
        "df = DATA_SET.copy()"
      ],
      "metadata": {
        "execution": {
          "iopub.status.busy": "2024-05-24T06:03:51.765601Z",
          "iopub.execute_input": "2024-05-24T06:03:51.765903Z",
          "iopub.status.idle": "2024-05-24T06:03:51.772093Z",
          "shell.execute_reply.started": "2024-05-24T06:03:51.765876Z",
          "shell.execute_reply": "2024-05-24T06:03:51.771237Z"
        },
        "trusted": true,
        "id": "_P11c099EV5W"
      },
      "execution_count": null,
      "outputs": []
    },
    {
      "cell_type": "code",
      "source": [
        "stop = set(stopwords.words('indonesian'))\n",
        "punctuation = list(string.punctuation)\n",
        "stop.update(punctuation)"
      ],
      "metadata": {
        "execution": {
          "iopub.status.busy": "2024-05-24T06:03:51.774154Z",
          "iopub.execute_input": "2024-05-24T06:03:51.774517Z",
          "iopub.status.idle": "2024-05-24T06:03:51.786748Z",
          "shell.execute_reply.started": "2024-05-24T06:03:51.774485Z",
          "shell.execute_reply": "2024-05-24T06:03:51.785878Z"
        },
        "trusted": true,
        "id": "7gkcLgjHEV5W"
      },
      "execution_count": null,
      "outputs": []
    },
    {
      "cell_type": "markdown",
      "source": [
        "# CLEANING DATA"
      ],
      "metadata": {
        "id": "aKxHR4M6EV5X"
      }
    },
    {
      "cell_type": "markdown",
      "source": [
        "# **Deep Learning**"
      ],
      "metadata": {
        "id": "c8M1T-rLEV5X"
      }
    },
    {
      "cell_type": "markdown",
      "source": [
        "## Splitting the data into 2 parts - training and testing data"
      ],
      "metadata": {
        "id": "C7c02yVWEV5X"
      }
    },
    {
      "cell_type": "code",
      "source": [
        "from tensorflow.keras.preprocessing import text, sequence\n",
        "from sklearn.model_selection import train_test_split\n",
        "import numpy as np\n",
        "\n",
        "# Assuming you have defined df already\n",
        "x_train, x_test, y_train, y_test = train_test_split(df['no_url'], df['label'], random_state=0)\n",
        "\n",
        "# Maximum number of words to keep, based on word frequency\n",
        "max_features = 3851\n",
        "# Maximum length of text sequences\n",
        "maxlen = 300\n",
        "\n",
        "# Tokenize text\n",
        "tokenizer = text.Tokenizer(num_words=max_features)\n",
        "tokenizer.fit_on_texts(x_train)\n",
        "\n",
        "# Tokenize and pad sequences for train set\n",
        "tokenized_train = tokenizer.texts_to_sequences(x_train)\n",
        "x_train = sequence.pad_sequences(tokenized_train, maxlen=maxlen)\n",
        "\n",
        "# Tokenize and pad sequences for test set\n",
        "tokenized_test = tokenizer.texts_to_sequences(x_test)\n",
        "x_test = sequence.pad_sequences(tokenized_test, maxlen=maxlen)\n",
        "\n",
        "# Print the shapes and first sample of x_train and x_test\n",
        "print(f\"x_train shape: {x_train.shape}\")\n",
        "print(f\"x_train[0]: {x_train[0]}\")\n",
        "print(f\"x_test shape: {x_test.shape}\")\n",
        "print(f\"x_test[0]: {x_test[0]}\")\n"
      ],
      "metadata": {
        "execution": {
          "iopub.status.busy": "2024-05-24T06:03:51.787959Z",
          "iopub.execute_input": "2024-05-24T06:03:51.788282Z",
          "iopub.status.idle": "2024-05-24T06:03:51.861182Z",
          "shell.execute_reply.started": "2024-05-24T06:03:51.788254Z",
          "shell.execute_reply": "2024-05-24T06:03:51.860231Z"
        },
        "trusted": true,
        "id": "SsUD2KzhEV5X",
        "outputId": "4ad6fa67-db72-45d9-8e64-8476b232c8b9"
      },
      "execution_count": null,
      "outputs": [
        {
          "name": "stdout",
          "text": "x_train shape: (857, 300)\nx_train[0]: [   0    0    0    0    0    0    0    0    0    0    0    0    0    0\n    0    0    0    0    0    0    0    0    0    0    0    0    0    0\n    0    0    0    0    0    0    0    0    0    0    0    0    0    0\n    0    0    0    0    0    0    0    0    0    0    0    0    0    0\n    0    0    0    0    0    0    0    0    0    0    0    0    0    0\n    0    0    0    0    0    0    0    0    0    0    0    0    0    0\n    0    0    0    0    0    0    0    0    0    0    0    0    0    0\n    0    0    0    0    0    0    0    0    0    0    0    0    0    0\n    0    0    0    0    0    0    0    0    0    0    0    0    0    0\n    0    0    0    0    0    0    0    0    0    0    0    0    0    0\n    0    0    0    0    0    0    0    0    0    0    0    0    0    0\n    0    0    0    0    0    0    0    0    0    0    0    0    0    0\n    0    0    0    0    0    0    0    0    0    0    0    0    0    0\n    0    0    0    0    0    0    0    0    0    0    0    0    0    0\n    0    0    0    0    0    0    0    0    0    0    0    0    0    0\n    0    0    0    0    0    0    0    0    0    0    0    0    0    0\n    0    0    0    0    0    0    0    0    0    0    0    0    0    0\n    0    0    0    0    0    0    0    0    0    0    0    0    0    0\n    0    0    0    0    0    0    0    0    0    0    0    0    0    0\n    0    0    0    0    0    0    0    0    0    0    0    0    0    0\n    0    0    0    0    0    0    0    0    0    0    0    0    0    0\n 1448   44   18 1449 1450  591]\nx_test shape: (286, 300)\nx_test[0]: [   0    0    0    0    0    0    0    0    0    0    0    0    0    0\n    0    0    0    0    0    0    0    0    0    0    0    0    0    0\n    0    0    0    0    0    0    0    0    0    0    0    0    0    0\n    0    0    0    0    0    0    0    0    0    0    0    0    0    0\n    0    0    0    0    0    0    0    0    0    0    0    0    0    0\n    0    0    0    0    0    0    0    0    0    0    0    0    0    0\n    0    0    0    0    0    0    0    0    0    0    0    0    0    0\n    0    0    0    0    0    0    0    0    0    0    0    0    0    0\n    0    0    0    0    0    0    0    0    0    0    0    0    0    0\n    0    0    0    0    0    0    0    0    0    0    0    0    0    0\n    0    0    0    0    0    0    0    0    0    0    0    0    0    0\n    0    0    0    0    0    0    0    0    0    0    0    0    0    0\n    0    0    0    0    0    0    0    0    0    0    0    0    0    0\n    0    0    0    0    0    0    0    0    0    0    0    0    0    0\n    0    0    0    0    0    0    0    0    0    0    0    0    0    0\n    0    0    0    0    0    0    0    0    0    0    0    0    0    0\n    0    0    0    0    0    0    0    0    0    0    0    0    0    0\n    0    0    0    0    0    0    0    0    0    0    0    0    0    0\n    0    0    0    0    0    0    0    0    0    0    0    0    0    0\n    0    0    0    0    0    0    0    0    0    0    0    0    0    0\n    0    0    0    0    0    0    0    0    0    0    0    0    0 1219\n  112   10  479  474  463  656]\n",
          "output_type": "stream"
        }
      ]
    },
    {
      "cell_type": "markdown",
      "source": [
        "Tokenizing Headline -> Repsesenting each word by a number\n",
        "\n",
        "Mapping of orginal word to number is preserved in word_index property of tokenizer\n",
        "\n",
        "Tokenized applies basic processing like changing it to lower case, explicitely setting that as False\n",
        "\n",
        "Lets keep all news to 300, add padding to news with less than 300 words and truncating long ones"
      ],
      "metadata": {
        "id": "akdsDPJPEV5X"
      }
    },
    {
      "cell_type": "markdown",
      "source": [],
      "metadata": {
        "id": "WJxCC4cEEV5Y"
      }
    },
    {
      "cell_type": "markdown",
      "source": [
        "# Naive Bayes\n",
        "\n"
      ],
      "metadata": {
        "id": "VTk8vPKSEV5Y"
      }
    },
    {
      "cell_type": "code",
      "source": [
        "from sklearn.feature_extraction.text import TfidfVectorizer"
      ],
      "metadata": {
        "execution": {
          "iopub.status.busy": "2024-05-24T06:03:51.862366Z",
          "iopub.execute_input": "2024-05-24T06:03:51.862744Z",
          "iopub.status.idle": "2024-05-24T06:03:51.867367Z",
          "shell.execute_reply.started": "2024-05-24T06:03:51.86271Z",
          "shell.execute_reply": "2024-05-24T06:03:51.866255Z"
        },
        "trusted": true,
        "id": "ny5nqgtdEV5Y"
      },
      "execution_count": null,
      "outputs": []
    },
    {
      "cell_type": "code",
      "source": [
        "x=df['no_url']\n",
        "y=df['label']\n",
        "x_train,x_test, y_train, y_test = train_test_split(x, y, test_size=0.20,random_state=32)"
      ],
      "metadata": {
        "execution": {
          "iopub.status.busy": "2024-05-24T06:03:51.868725Z",
          "iopub.execute_input": "2024-05-24T06:03:51.869065Z",
          "iopub.status.idle": "2024-05-24T06:03:51.878688Z",
          "shell.execute_reply.started": "2024-05-24T06:03:51.869034Z",
          "shell.execute_reply": "2024-05-24T06:03:51.8778Z"
        },
        "trusted": true,
        "id": "cSE1STrIEV5Y"
      },
      "execution_count": null,
      "outputs": []
    },
    {
      "cell_type": "code",
      "source": [
        "vectorizer = TfidfVectorizer()\n",
        "x_train_tfidf = vectorizer.fit_transform(x_train)\n",
        "x_test_tfidf = vectorizer.transform(x_test)\n"
      ],
      "metadata": {
        "execution": {
          "iopub.status.busy": "2024-05-24T06:03:51.88016Z",
          "iopub.execute_input": "2024-05-24T06:03:51.880482Z",
          "iopub.status.idle": "2024-05-24T06:03:51.941234Z",
          "shell.execute_reply.started": "2024-05-24T06:03:51.880441Z",
          "shell.execute_reply": "2024-05-24T06:03:51.940408Z"
        },
        "trusted": true,
        "id": "rIEcqh83EV5Y"
      },
      "execution_count": null,
      "outputs": []
    },
    {
      "cell_type": "code",
      "source": [
        "import numpy as np\n",
        "import pandas as pd\n",
        "from sklearn.model_selection import train_test_split\n",
        "from sklearn.feature_extraction.text import TfidfVectorizer\n",
        "from sklearn.naive_bayes import ComplementNB\n",
        "from sklearn.metrics import classification_report, confusion_matrix, accuracy_score\n",
        "\n",
        "# Assuming `x` is your text data and `y` are the labels\n",
        "# x = [...]  # Your text data\n",
        "# y = [...]  # Your labels\n",
        "\n",
        "# Split the dataset into training and testing sets\n",
        "x_train, x_test, y_train, y_test = train_test_split(x, y, test_size=0.20, random_state=32)\n",
        "\n",
        "# Use TfidfVectorizer to transform text data to numerical data\n",
        "\n",
        "# Initialize the Complement Naive Bayes model\n",
        "CNB = ComplementNB()\n",
        "\n",
        "# Fit the model\n",
        "CNB.fit(x_train_tfidf, y_train)\n",
        "\n",
        "# Predict the labels for the test set\n",
        "predicted = CNB.predict(x_test_tfidf)\n",
        "\n",
        "# Calculate the accuracy\n",
        "accuracy = accuracy_score(y_test, predicted)\n",
        "print('ComplementNB model accuracy is', str('{:04.2f}'.format(accuracy * 100)) + '%')\n",
        "print('------------------------------------------------')\n",
        "print('Confusion Matrix:')\n",
        "print(pd.DataFrame(confusion_matrix(y_test, predicted)))\n",
        "print('------------------------------------------------')\n",
        "print('Classification Report:')\n",
        "print(classification_report(y_test, predicted, target_names=['normal', 'fraud', 'promo']))\n"
      ],
      "metadata": {
        "execution": {
          "iopub.status.busy": "2024-05-24T06:03:51.946233Z",
          "iopub.execute_input": "2024-05-24T06:03:51.946546Z",
          "iopub.status.idle": "2024-05-24T06:03:51.976579Z",
          "shell.execute_reply.started": "2024-05-24T06:03:51.946521Z",
          "shell.execute_reply": "2024-05-24T06:03:51.97573Z"
        },
        "trusted": true,
        "id": "ZjF-xznaEV5Z",
        "outputId": "c05bbcbb-20b6-4bb1-90bb-df4bea51c312"
      },
      "execution_count": null,
      "outputs": [
        {
          "name": "stdout",
          "text": "ComplementNB model accuracy is 91.27%\n------------------------------------------------\nConfusion Matrix:\n     0   1   2\n0  104   2   3\n1    5  52   6\n2    1   3  53\n------------------------------------------------\nClassification Report:\n              precision    recall  f1-score   support\n\n      normal       0.95      0.95      0.95       109\n       fraud       0.91      0.83      0.87        63\n       promo       0.85      0.93      0.89        57\n\n    accuracy                           0.91       229\n   macro avg       0.90      0.90      0.90       229\nweighted avg       0.91      0.91      0.91       229\n\n",
          "output_type": "stream"
        }
      ]
    },
    {
      "cell_type": "code",
      "source": [
        "batch_size = 256\n",
        "epochs = 32\n",
        "embed_size = 100"
      ],
      "metadata": {
        "execution": {
          "iopub.status.busy": "2024-05-24T06:03:51.977695Z",
          "iopub.execute_input": "2024-05-24T06:03:51.977956Z",
          "iopub.status.idle": "2024-05-24T06:03:51.982558Z",
          "shell.execute_reply.started": "2024-05-24T06:03:51.977933Z",
          "shell.execute_reply": "2024-05-24T06:03:51.98161Z"
        },
        "trusted": true,
        "id": "6DWoePQbEV5Z"
      },
      "execution_count": null,
      "outputs": []
    },
    {
      "cell_type": "markdown",
      "source": [
        "# LSTM"
      ],
      "metadata": {
        "id": "ilacRc1cEV5Z"
      }
    },
    {
      "cell_type": "code",
      "source": [
        "import numpy as np\n",
        "import pandas as pd\n",
        "from sklearn.model_selection import train_test_split\n",
        "from sklearn.feature_extraction.text import TfidfVectorizer\n",
        "from sklearn.preprocessing import LabelEncoder\n",
        "from tensorflow.keras.models import Sequential\n",
        "from tensorflow.keras.layers import Dense, LSTM, Dropout, Embedding, TimeDistributed\n",
        "from tensorflow.keras.callbacks import ReduceLROnPlateau, EarlyStopping\n",
        "import matplotlib.pyplot as plt\n",
        "\n",
        "# Assuming df is your DataFrame and it has columns 'no_url' (text data) and 'label' (labels)\n",
        "# df = pd.read_csv('your_dataset.csv')\n",
        "\n",
        "# Convert labels to numerical values\n",
        "label_encoder = LabelEncoder()\n",
        "y = label_encoder.fit_transform(df['label'])\n",
        "\n",
        "# Split the dataset into training and testing sets\n",
        "x_train, x_test, y_train, y_test = train_test_split(df['no_url'], y, test_size=0.20, random_state=32)\n",
        "\n",
        "# Vectorize text data using TF-IDF\n",
        "vectorizer = TfidfVectorizer(max_features=5000)  # Limiting the number of features\n",
        "x_train_tfidf = vectorizer.fit_transform(x_train).toarray()\n",
        "x_test_tfidf = vectorizer.transform(x_test).toarray()\n",
        "\n",
        "# Reshape data to fit LSTM input requirements (samples, timesteps, features)\n",
        "# In this case, we treat each document as a sequence with a single timestep\n",
        "x_train_tfidf = np.expand_dims(x_train_tfidf, axis=1)\n",
        "x_test_tfidf = np.expand_dims(x_test_tfidf, axis=1)\n",
        "\n",
        "# Parameters\n",
        "batch_size = 64\n",
        "epochs = 32\n",
        "input_dim = x_train_tfidf.shape[2]  # Number of features\n",
        "\n",
        "print(input_dim)\n",
        "\n",
        "# Callbacks\n",
        "learning_rate_reduction = ReduceLROnPlateau(monitor='val_accuracy', patience=3, verbose=1, factor=0.5, min_lr=0.00001)\n",
        "early_stopping = EarlyStopping(monitor='val_loss', patience=10, restore_best_weights=True)\n",
        "\n",
        "# Initialize the model\n",
        "model = Sequential()\n",
        "model.add(LSTM(units=64, input_shape=(1, input_dim), return_sequences=True))\n",
        "model.add(Dropout(0.5))\n",
        "model.add(LSTM(units=32, return_sequences=False))\n",
        "model.add(Dropout(0.5))\n",
        "model.add(Dense(units=3, activation='softmax'))  # Change units to 3 for multi-class classification\n",
        "\n",
        "# Compile the model\n",
        "model.compile(optimizer='adam', loss='sparse_categorical_crossentropy', metrics=['accuracy'])\n",
        "\n",
        "model.summary()\n"
      ],
      "metadata": {
        "execution": {
          "iopub.status.busy": "2024-05-24T06:15:32.922667Z",
          "iopub.execute_input": "2024-05-24T06:15:32.923069Z",
          "iopub.status.idle": "2024-05-24T06:15:33.059864Z",
          "shell.execute_reply.started": "2024-05-24T06:15:32.923036Z",
          "shell.execute_reply": "2024-05-24T06:15:33.059016Z"
        },
        "trusted": true,
        "id": "iN04_1wPEV5s",
        "outputId": "e6ddb71a-182d-43e6-b507-b6c9e1ec65ff"
      },
      "execution_count": null,
      "outputs": [
        {
          "name": "stdout",
          "text": "3851\n",
          "output_type": "stream"
        },
        {
          "name": "stderr",
          "text": "/opt/conda/lib/python3.10/site-packages/keras/src/layers/rnn/rnn.py:204: UserWarning: Do not pass an `input_shape`/`input_dim` argument to a layer. When using Sequential models, prefer using an `Input(shape)` object as the first layer in the model instead.\n  super().__init__(**kwargs)\n",
          "output_type": "stream"
        },
        {
          "output_type": "display_data",
          "data": {
            "text/plain": "\u001b[1mModel: \"sequential_5\"\u001b[0m\n",
            "text/html": "<pre style=\"white-space:pre;overflow-x:auto;line-height:normal;font-family:Menlo,'DejaVu Sans Mono',consolas,'Courier New',monospace\"><span style=\"font-weight: bold\">Model: \"sequential_5\"</span>\n</pre>\n"
          },
          "metadata": {}
        },
        {
          "output_type": "display_data",
          "data": {
            "text/plain": "┏━━━━━━━━━━━━━━━━━━━━━━━━━━━━━━━━━┳━━━━━━━━━━━━━━━━━━━━━━━━┳━━━━━━━━━━━━━━━┓\n┃\u001b[1m \u001b[0m\u001b[1mLayer (type)                   \u001b[0m\u001b[1m \u001b[0m┃\u001b[1m \u001b[0m\u001b[1mOutput Shape          \u001b[0m\u001b[1m \u001b[0m┃\u001b[1m \u001b[0m\u001b[1m      Param #\u001b[0m\u001b[1m \u001b[0m┃\n┡━━━━━━━━━━━━━━━━━━━━━━━━━━━━━━━━━╇━━━━━━━━━━━━━━━━━━━━━━━━╇━━━━━━━━━━━━━━━┩\n│ lstm_10 (\u001b[38;5;33mLSTM\u001b[0m)                  │ (\u001b[38;5;45mNone\u001b[0m, \u001b[38;5;34m1\u001b[0m, \u001b[38;5;34m64\u001b[0m)          │     \u001b[38;5;34m1,002,496\u001b[0m │\n├─────────────────────────────────┼────────────────────────┼───────────────┤\n│ dropout_8 (\u001b[38;5;33mDropout\u001b[0m)             │ (\u001b[38;5;45mNone\u001b[0m, \u001b[38;5;34m1\u001b[0m, \u001b[38;5;34m64\u001b[0m)          │             \u001b[38;5;34m0\u001b[0m │\n├─────────────────────────────────┼────────────────────────┼───────────────┤\n│ lstm_11 (\u001b[38;5;33mLSTM\u001b[0m)                  │ (\u001b[38;5;45mNone\u001b[0m, \u001b[38;5;34m32\u001b[0m)             │        \u001b[38;5;34m12,416\u001b[0m │\n├─────────────────────────────────┼────────────────────────┼───────────────┤\n│ dropout_9 (\u001b[38;5;33mDropout\u001b[0m)             │ (\u001b[38;5;45mNone\u001b[0m, \u001b[38;5;34m32\u001b[0m)             │             \u001b[38;5;34m0\u001b[0m │\n├─────────────────────────────────┼────────────────────────┼───────────────┤\n│ dense_6 (\u001b[38;5;33mDense\u001b[0m)                 │ (\u001b[38;5;45mNone\u001b[0m, \u001b[38;5;34m3\u001b[0m)              │            \u001b[38;5;34m99\u001b[0m │\n└─────────────────────────────────┴────────────────────────┴───────────────┘\n",
            "text/html": "<pre style=\"white-space:pre;overflow-x:auto;line-height:normal;font-family:Menlo,'DejaVu Sans Mono',consolas,'Courier New',monospace\">┏━━━━━━━━━━━━━━━━━━━━━━━━━━━━━━━━━┳━━━━━━━━━━━━━━━━━━━━━━━━┳━━━━━━━━━━━━━━━┓\n┃<span style=\"font-weight: bold\"> Layer (type)                    </span>┃<span style=\"font-weight: bold\"> Output Shape           </span>┃<span style=\"font-weight: bold\">       Param # </span>┃\n┡━━━━━━━━━━━━━━━━━━━━━━━━━━━━━━━━━╇━━━━━━━━━━━━━━━━━━━━━━━━╇━━━━━━━━━━━━━━━┩\n│ lstm_10 (<span style=\"color: #0087ff; text-decoration-color: #0087ff\">LSTM</span>)                  │ (<span style=\"color: #00d7ff; text-decoration-color: #00d7ff\">None</span>, <span style=\"color: #00af00; text-decoration-color: #00af00\">1</span>, <span style=\"color: #00af00; text-decoration-color: #00af00\">64</span>)          │     <span style=\"color: #00af00; text-decoration-color: #00af00\">1,002,496</span> │\n├─────────────────────────────────┼────────────────────────┼───────────────┤\n│ dropout_8 (<span style=\"color: #0087ff; text-decoration-color: #0087ff\">Dropout</span>)             │ (<span style=\"color: #00d7ff; text-decoration-color: #00d7ff\">None</span>, <span style=\"color: #00af00; text-decoration-color: #00af00\">1</span>, <span style=\"color: #00af00; text-decoration-color: #00af00\">64</span>)          │             <span style=\"color: #00af00; text-decoration-color: #00af00\">0</span> │\n├─────────────────────────────────┼────────────────────────┼───────────────┤\n│ lstm_11 (<span style=\"color: #0087ff; text-decoration-color: #0087ff\">LSTM</span>)                  │ (<span style=\"color: #00d7ff; text-decoration-color: #00d7ff\">None</span>, <span style=\"color: #00af00; text-decoration-color: #00af00\">32</span>)             │        <span style=\"color: #00af00; text-decoration-color: #00af00\">12,416</span> │\n├─────────────────────────────────┼────────────────────────┼───────────────┤\n│ dropout_9 (<span style=\"color: #0087ff; text-decoration-color: #0087ff\">Dropout</span>)             │ (<span style=\"color: #00d7ff; text-decoration-color: #00d7ff\">None</span>, <span style=\"color: #00af00; text-decoration-color: #00af00\">32</span>)             │             <span style=\"color: #00af00; text-decoration-color: #00af00\">0</span> │\n├─────────────────────────────────┼────────────────────────┼───────────────┤\n│ dense_6 (<span style=\"color: #0087ff; text-decoration-color: #0087ff\">Dense</span>)                 │ (<span style=\"color: #00d7ff; text-decoration-color: #00d7ff\">None</span>, <span style=\"color: #00af00; text-decoration-color: #00af00\">3</span>)              │            <span style=\"color: #00af00; text-decoration-color: #00af00\">99</span> │\n└─────────────────────────────────┴────────────────────────┴───────────────┘\n</pre>\n"
          },
          "metadata": {}
        },
        {
          "output_type": "display_data",
          "data": {
            "text/plain": "\u001b[1m Total params: \u001b[0m\u001b[38;5;34m1,015,011\u001b[0m (3.87 MB)\n",
            "text/html": "<pre style=\"white-space:pre;overflow-x:auto;line-height:normal;font-family:Menlo,'DejaVu Sans Mono',consolas,'Courier New',monospace\"><span style=\"font-weight: bold\"> Total params: </span><span style=\"color: #00af00; text-decoration-color: #00af00\">1,015,011</span> (3.87 MB)\n</pre>\n"
          },
          "metadata": {}
        },
        {
          "output_type": "display_data",
          "data": {
            "text/plain": "\u001b[1m Trainable params: \u001b[0m\u001b[38;5;34m1,015,011\u001b[0m (3.87 MB)\n",
            "text/html": "<pre style=\"white-space:pre;overflow-x:auto;line-height:normal;font-family:Menlo,'DejaVu Sans Mono',consolas,'Courier New',monospace\"><span style=\"font-weight: bold\"> Trainable params: </span><span style=\"color: #00af00; text-decoration-color: #00af00\">1,015,011</span> (3.87 MB)\n</pre>\n"
          },
          "metadata": {}
        },
        {
          "output_type": "display_data",
          "data": {
            "text/plain": "\u001b[1m Non-trainable params: \u001b[0m\u001b[38;5;34m0\u001b[0m (0.00 B)\n",
            "text/html": "<pre style=\"white-space:pre;overflow-x:auto;line-height:normal;font-family:Menlo,'DejaVu Sans Mono',consolas,'Courier New',monospace\"><span style=\"font-weight: bold\"> Non-trainable params: </span><span style=\"color: #00af00; text-decoration-color: #00af00\">0</span> (0.00 B)\n</pre>\n"
          },
          "metadata": {}
        }
      ]
    },
    {
      "cell_type": "code",
      "source": [
        "print(input_dim)"
      ],
      "metadata": {
        "execution": {
          "iopub.status.busy": "2024-05-24T06:15:38.542017Z",
          "iopub.execute_input": "2024-05-24T06:15:38.542676Z",
          "iopub.status.idle": "2024-05-24T06:15:38.547371Z",
          "shell.execute_reply.started": "2024-05-24T06:15:38.542646Z",
          "shell.execute_reply": "2024-05-24T06:15:38.546323Z"
        },
        "trusted": true,
        "id": "c58evkFWEV5t",
        "outputId": "069fd28d-4ca0-4472-9ebe-e50ae613ce91"
      },
      "execution_count": null,
      "outputs": [
        {
          "name": "stdout",
          "text": "3851\n",
          "output_type": "stream"
        }
      ]
    },
    {
      "cell_type": "code",
      "source": [
        "history = model.fit(x_train_tfidf, y_train, batch_size=batch_size, epochs=epochs, validation_split=0.2, callbacks=[learning_rate_reduction, early_stopping])\n",
        "\n",
        "# Plot training & validation accuracy values\n",
        "plt.plot(history.history['accuracy'], label='Train Accuracy')\n",
        "plt.plot(history.history['val_accuracy'], label='Validation Accuracy')\n",
        "plt.title('Model Accuracy')\n",
        "plt.ylabel('Accuracy')\n",
        "plt.xlabel('Epoch')\n",
        "plt.legend(loc='upper left')\n",
        "plt.show()\n",
        "\n",
        "# Plot training & validation loss values\n",
        "plt.plot(history.history['loss'], label='Train Loss')\n",
        "plt.plot(history.history['val_loss'], label='Validation Loss')\n",
        "plt.title('Model Loss')\n",
        "plt.ylabel('Loss')\n",
        "plt.xlabel('Epoch')\n",
        "plt.legend(loc='upper left')\n",
        "plt.show()\n",
        "\n",
        "# Evaluate the model\n",
        "score = model.evaluate(x_test_tfidf, y_test, batch_size=batch_size)\n",
        "print(f'Test accuracy: {score[1]}')"
      ],
      "metadata": {
        "execution": {
          "iopub.status.busy": "2024-05-24T06:15:41.12395Z",
          "iopub.execute_input": "2024-05-24T06:15:41.1247Z",
          "iopub.status.idle": "2024-05-24T06:15:47.418981Z",
          "shell.execute_reply.started": "2024-05-24T06:15:41.12467Z",
          "shell.execute_reply": "2024-05-24T06:15:47.418192Z"
        },
        "trusted": true,
        "id": "ft_z4aAIEV5t",
        "outputId": "f12da8c5-3b86-43e6-8161-a20c00e7d4b7"
      },
      "execution_count": null,
      "outputs": [
        {
          "name": "stdout",
          "text": "Epoch 1/32\n\u001b[1m12/12\u001b[0m \u001b[32m━━━━━━━━━━━━━━━━━━━━\u001b[0m\u001b[37m\u001b[0m \u001b[1m2s\u001b[0m 33ms/step - accuracy: 0.4901 - loss: 1.0960 - val_accuracy: 0.4153 - val_loss: 1.0917 - learning_rate: 0.0010\nEpoch 2/32\n\u001b[1m12/12\u001b[0m \u001b[32m━━━━━━━━━━━━━━━━━━━━\u001b[0m\u001b[37m\u001b[0m \u001b[1m0s\u001b[0m 8ms/step - accuracy: 0.5313 - loss: 1.0833 - val_accuracy: 0.4153 - val_loss: 1.0823 - learning_rate: 0.0010\nEpoch 3/32\n\u001b[1m12/12\u001b[0m \u001b[32m━━━━━━━━━━━━━━━━━━━━\u001b[0m\u001b[37m\u001b[0m \u001b[1m0s\u001b[0m 8ms/step - accuracy: 0.5260 - loss: 1.0653 - val_accuracy: 0.4153 - val_loss: 1.0674 - learning_rate: 0.0010\nEpoch 4/32\n\u001b[1m 1/12\u001b[0m \u001b[32m━\u001b[0m\u001b[37m━━━━━━━━━━━━━━━━━━━\u001b[0m \u001b[1m0s\u001b[0m 22ms/step - accuracy: 0.5312 - loss: 1.0432\nEpoch 4: ReduceLROnPlateau reducing learning rate to 0.0005000000237487257.\n\u001b[1m12/12\u001b[0m \u001b[32m━━━━━━━━━━━━━━━━━━━━\u001b[0m\u001b[37m\u001b[0m \u001b[1m0s\u001b[0m 7ms/step - accuracy: 0.5463 - loss: 1.0343 - val_accuracy: 0.4153 - val_loss: 1.0434 - learning_rate: 0.0010\nEpoch 5/32\n\u001b[1m12/12\u001b[0m \u001b[32m━━━━━━━━━━━━━━━━━━━━\u001b[0m\u001b[37m\u001b[0m \u001b[1m0s\u001b[0m 7ms/step - accuracy: 0.5252 - loss: 1.0027 - val_accuracy: 0.4153 - val_loss: 1.0261 - learning_rate: 5.0000e-04\nEpoch 6/32\n\u001b[1m12/12\u001b[0m \u001b[32m━━━━━━━━━━━━━━━━━━━━\u001b[0m\u001b[37m\u001b[0m \u001b[1m0s\u001b[0m 8ms/step - accuracy: 0.5361 - loss: 0.9718 - val_accuracy: 0.4153 - val_loss: 1.0044 - learning_rate: 5.0000e-04\nEpoch 7/32\n\u001b[1m12/12\u001b[0m \u001b[32m━━━━━━━━━━━━━━━━━━━━\u001b[0m\u001b[37m\u001b[0m \u001b[1m0s\u001b[0m 7ms/step - accuracy: 0.5374 - loss: 0.9336 - val_accuracy: 0.4317 - val_loss: 0.9782 - learning_rate: 5.0000e-04\nEpoch 8/32\n\u001b[1m12/12\u001b[0m \u001b[32m━━━━━━━━━━━━━━━━━━━━\u001b[0m\u001b[37m\u001b[0m \u001b[1m0s\u001b[0m 8ms/step - accuracy: 0.5835 - loss: 0.8897 - val_accuracy: 0.4590 - val_loss: 0.9480 - learning_rate: 5.0000e-04\nEpoch 9/32\n\u001b[1m12/12\u001b[0m \u001b[32m━━━━━━━━━━━━━━━━━━━━\u001b[0m\u001b[37m\u001b[0m \u001b[1m0s\u001b[0m 7ms/step - accuracy: 0.5710 - loss: 0.8469 - val_accuracy: 0.4918 - val_loss: 0.9137 - learning_rate: 5.0000e-04\nEpoch 10/32\n\u001b[1m12/12\u001b[0m \u001b[32m━━━━━━━━━━━━━━━━━━━━\u001b[0m\u001b[37m\u001b[0m \u001b[1m0s\u001b[0m 7ms/step - accuracy: 0.6226 - loss: 0.7954 - val_accuracy: 0.5301 - val_loss: 0.8754 - learning_rate: 5.0000e-04\nEpoch 11/32\n\u001b[1m12/12\u001b[0m \u001b[32m━━━━━━━━━━━━━━━━━━━━\u001b[0m\u001b[37m\u001b[0m \u001b[1m0s\u001b[0m 7ms/step - accuracy: 0.6427 - loss: 0.7385 - val_accuracy: 0.5628 - val_loss: 0.8351 - learning_rate: 5.0000e-04\nEpoch 12/32\n\u001b[1m12/12\u001b[0m \u001b[32m━━━━━━━━━━━━━━━━━━━━\u001b[0m\u001b[37m\u001b[0m \u001b[1m0s\u001b[0m 8ms/step - accuracy: 0.6985 - loss: 0.6801 - val_accuracy: 0.5738 - val_loss: 0.7936 - learning_rate: 5.0000e-04\nEpoch 13/32\n\u001b[1m12/12\u001b[0m \u001b[32m━━━━━━━━━━━━━━━━━━━━\u001b[0m\u001b[37m\u001b[0m \u001b[1m0s\u001b[0m 8ms/step - accuracy: 0.7398 - loss: 0.6215 - val_accuracy: 0.6284 - val_loss: 0.7507 - learning_rate: 5.0000e-04\nEpoch 14/32\n\u001b[1m12/12\u001b[0m \u001b[32m━━━━━━━━━━━━━━━━━━━━\u001b[0m\u001b[37m\u001b[0m \u001b[1m0s\u001b[0m 8ms/step - accuracy: 0.7911 - loss: 0.5749 - val_accuracy: 0.6995 - val_loss: 0.7071 - learning_rate: 5.0000e-04\nEpoch 15/32\n\u001b[1m12/12\u001b[0m \u001b[32m━━━━━━━━━━━━━━━━━━━━\u001b[0m\u001b[37m\u001b[0m \u001b[1m0s\u001b[0m 7ms/step - accuracy: 0.8505 - loss: 0.5129 - val_accuracy: 0.7377 - val_loss: 0.6642 - learning_rate: 5.0000e-04\nEpoch 16/32\n\u001b[1m12/12\u001b[0m \u001b[32m━━━━━━━━━━━━━━━━━━━━\u001b[0m\u001b[37m\u001b[0m \u001b[1m0s\u001b[0m 7ms/step - accuracy: 0.8793 - loss: 0.4948 - val_accuracy: 0.7596 - val_loss: 0.6222 - learning_rate: 5.0000e-04\nEpoch 17/32\n\u001b[1m12/12\u001b[0m \u001b[32m━━━━━━━━━━━━━━━━━━━━\u001b[0m\u001b[37m\u001b[0m \u001b[1m0s\u001b[0m 7ms/step - accuracy: 0.8923 - loss: 0.4702 - val_accuracy: 0.7814 - val_loss: 0.5827 - learning_rate: 5.0000e-04\nEpoch 18/32\n\u001b[1m12/12\u001b[0m \u001b[32m━━━━━━━━━━━━━━━━━━━━\u001b[0m\u001b[37m\u001b[0m \u001b[1m0s\u001b[0m 8ms/step - accuracy: 0.9273 - loss: 0.4088 - val_accuracy: 0.8033 - val_loss: 0.5468 - learning_rate: 5.0000e-04\nEpoch 19/32\n\u001b[1m12/12\u001b[0m \u001b[32m━━━━━━━━━━━━━━━━━━━━\u001b[0m\u001b[37m\u001b[0m \u001b[1m0s\u001b[0m 7ms/step - accuracy: 0.9257 - loss: 0.3803 - val_accuracy: 0.8087 - val_loss: 0.5127 - learning_rate: 5.0000e-04\nEpoch 20/32\n\u001b[1m12/12\u001b[0m \u001b[32m━━━━━━━━━━━━━━━━━━━━\u001b[0m\u001b[37m\u001b[0m \u001b[1m0s\u001b[0m 7ms/step - accuracy: 0.9614 - loss: 0.3339 - val_accuracy: 0.8197 - val_loss: 0.4811 - learning_rate: 5.0000e-04\nEpoch 21/32\n\u001b[1m12/12\u001b[0m \u001b[32m━━━━━━━━━━━━━━━━━━━━\u001b[0m\u001b[37m\u001b[0m \u001b[1m0s\u001b[0m 7ms/step - accuracy: 0.9627 - loss: 0.2934 - val_accuracy: 0.8415 - val_loss: 0.4518 - learning_rate: 5.0000e-04\nEpoch 22/32\n\u001b[1m12/12\u001b[0m \u001b[32m━━━━━━━━━━━━━━━━━━━━\u001b[0m\u001b[37m\u001b[0m \u001b[1m0s\u001b[0m 7ms/step - accuracy: 0.9725 - loss: 0.2821 - val_accuracy: 0.8525 - val_loss: 0.4252 - learning_rate: 5.0000e-04\nEpoch 23/32\n\u001b[1m12/12\u001b[0m \u001b[32m━━━━━━━━━━━━━━━━━━━━\u001b[0m\u001b[37m\u001b[0m \u001b[1m0s\u001b[0m 8ms/step - accuracy: 0.9700 - loss: 0.2667 - val_accuracy: 0.8525 - val_loss: 0.4002 - learning_rate: 5.0000e-04\nEpoch 24/32\n\u001b[1m12/12\u001b[0m \u001b[32m━━━━━━━━━━━━━━━━━━━━\u001b[0m\u001b[37m\u001b[0m \u001b[1m0s\u001b[0m 8ms/step - accuracy: 0.9874 - loss: 0.2227 - val_accuracy: 0.8689 - val_loss: 0.3779 - learning_rate: 5.0000e-04\nEpoch 25/32\n\u001b[1m12/12\u001b[0m \u001b[32m━━━━━━━━━━━━━━━━━━━━\u001b[0m\u001b[37m\u001b[0m \u001b[1m0s\u001b[0m 8ms/step - accuracy: 0.9851 - loss: 0.2012 - val_accuracy: 0.8798 - val_loss: 0.3559 - learning_rate: 5.0000e-04\nEpoch 26/32\n\u001b[1m12/12\u001b[0m \u001b[32m━━━━━━━━━━━━━━━━━━━━\u001b[0m\u001b[37m\u001b[0m \u001b[1m0s\u001b[0m 7ms/step - accuracy: 0.9906 - loss: 0.1834 - val_accuracy: 0.8962 - val_loss: 0.3367 - learning_rate: 5.0000e-04\nEpoch 27/32\n\u001b[1m12/12\u001b[0m \u001b[32m━━━━━━━━━━━━━━━━━━━━\u001b[0m\u001b[37m\u001b[0m \u001b[1m0s\u001b[0m 7ms/step - accuracy: 0.9952 - loss: 0.1792 - val_accuracy: 0.8962 - val_loss: 0.3182 - learning_rate: 5.0000e-04\nEpoch 28/32\n\u001b[1m12/12\u001b[0m \u001b[32m━━━━━━━━━━━━━━━━━━━━\u001b[0m\u001b[37m\u001b[0m \u001b[1m0s\u001b[0m 8ms/step - accuracy: 0.9966 - loss: 0.1442 - val_accuracy: 0.9071 - val_loss: 0.3028 - learning_rate: 5.0000e-04\nEpoch 29/32\n\u001b[1m12/12\u001b[0m \u001b[32m━━━━━━━━━━━━━━━━━━━━\u001b[0m\u001b[37m\u001b[0m \u001b[1m0s\u001b[0m 10ms/step - accuracy: 0.9909 - loss: 0.1381 - val_accuracy: 0.9126 - val_loss: 0.2894 - learning_rate: 5.0000e-04\nEpoch 30/32\n\u001b[1m12/12\u001b[0m \u001b[32m━━━━━━━━━━━━━━━━━━━━\u001b[0m\u001b[37m\u001b[0m \u001b[1m0s\u001b[0m 8ms/step - accuracy: 0.9934 - loss: 0.1262 - val_accuracy: 0.9180 - val_loss: 0.2761 - learning_rate: 5.0000e-04\nEpoch 31/32\n\u001b[1m12/12\u001b[0m \u001b[32m━━━━━━━━━━━━━━━━━━━━\u001b[0m\u001b[37m\u001b[0m \u001b[1m0s\u001b[0m 8ms/step - accuracy: 0.9934 - loss: 0.1175 - val_accuracy: 0.9180 - val_loss: 0.2650 - learning_rate: 5.0000e-04\nEpoch 32/32\n\u001b[1m12/12\u001b[0m \u001b[32m━━━━━━━━━━━━━━━━━━━━\u001b[0m\u001b[37m\u001b[0m \u001b[1m0s\u001b[0m 8ms/step - accuracy: 0.9959 - loss: 0.1037 - val_accuracy: 0.9180 - val_loss: 0.2552 - learning_rate: 5.0000e-04\n",
          "output_type": "stream"
        },
        {
          "output_type": "display_data",
          "data": {
            "text/plain": "<Figure size 640x480 with 1 Axes>",
            "image/png": "[encoded data removed]"
          },
          "metadata": {}
        },
        {
          "output_type": "display_data",
          "data": {
            "text/plain": "<Figure size 640x480 with 1 Axes>",
            "image/png": "[encoded data removed]"
          },
          "metadata": {}
        },
        {
          "name": "stdout",
          "text": "\u001b[1m4/4\u001b[0m \u001b[32m━━━━━━━━━━━━━━━━━━━━\u001b[0m\u001b[37m\u001b[0m \u001b[1m0s\u001b[0m 3ms/step - accuracy: 0.9088 - loss: 0.2832 \nTest accuracy: 0.9126637578010559\n",
          "output_type": "stream"
        }
      ]
    }
  ]
}